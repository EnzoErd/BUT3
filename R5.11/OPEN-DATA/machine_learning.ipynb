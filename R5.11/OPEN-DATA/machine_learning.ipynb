{
 "cells": [
  {
   "cell_type": "code",
   "execution_count": 16,
   "metadata": {},
   "outputs": [
    {
     "name": "stdout",
     "output_type": "stream",
     "text": [
      "[ 9211.4569647  15936.46286993  2153.66040862  5143.0462716\n",
      "  4268.11191879]\n",
      "[ 2370. 12868.   170.    50. 11907.]\n"
     ]
    },
    {
     "name": "stderr",
     "output_type": "stream",
     "text": [
      "C:\\Users\\enzoe\\AppData\\Local\\Temp\\ipykernel_1308\\3515642447.py:30: FutureWarning: The behavior of `series[i:j]` with an integer-dtype index is deprecated. In a future version, this will be treated as *label-based* indexing, consistent with e.g. `series[i]` lookups. To retain the old behavior, use `series.iloc[i:j]`. To get the future behavior, use `series.loc[i:j]`.\n",
      "  print(val_y[:5].values)\n"
     ]
    }
   ],
   "source": [
    "import pandas as pd\n",
    "from sklearn.model_selection import train_test_split\n",
    "from sklearn.linear_model import LinearRegression\n",
    "\n",
    "car_file = 'data/ademe-car-labelling.csv'\n",
    "car_data = pd.read_csv(car_file)\n",
    "car_data.dropna(axis=0, subset=['Barème Bonus-Malus'], inplace=True)\n",
    "car_data.dropna(axis=0, subset=[\"CO2 basse vitesse Min\"], inplace=True)\n",
    "car_data.dropna(axis=0, subset=[\"CO2 basse vitesse Max\"], inplace=True)\n",
    "car_data.dropna(axis=0, subset=[\"CO2 moyenne vitesse Min\"], inplace=True)\n",
    "car_data.dropna(axis=0, subset=[\"CO2 moyenne vitesse Max\"], inplace=True)\n",
    "car_data.dropna(axis=0, subset=[\"CO2 haute vitesse Min\"], inplace=True)\n",
    "car_data.dropna(axis=0, subset=[\"CO2 haute vitesse Max\"], inplace=True)\n",
    "car_data.dropna(axis=0, subset=[\"CO2 T-haute vitesse Min\"], inplace=True)\n",
    "car_data.dropna(axis=0, subset=[\"CO2 T-haute vitesse Max\"], inplace=True)\n",
    "car_data.dropna(axis=0, subset=[\"CO2 vitesse mixte Min\"], inplace=True)\n",
    "car_data.dropna(axis=0, subset=[\"Conso moyenne vitesse Min\"], inplace=True)\n",
    "car_data.dropna(axis=0, subset=[\"Conso moyenne vitesse Max\"], inplace=True)\n",
    "car_data.dropna(axis=0, subset=[\"Conso haute vitesse Min\"], inplace=True)\n",
    "car_data.dropna(axis=0, subset=[\"Conso haute vitesse Max\"], inplace=True)\n",
    "car_data.dropna(axis=0, subset=[\"Conso T-haute vitesse Min\"], inplace=True)\n",
    "car_data.dropna(axis=0, subset=[\"Conso T-haute vitesse Max\"], inplace=True)\n",
    "car_data.dropna(axis=0, subset=[\"Conso vitesse mixte Min\"], inplace=True)\n",
    "car_data.dropna(axis=0, subset=[\"Conso vitesse mixte Max\"], inplace=True)\n",
    "\n",
    "\n",
    "y = car_data[\"Barème Bonus-Malus\"]\n",
    "feature_names = [\"CO2 basse vitesse Min\",\"CO2 basse vitesse Max\",\"CO2 moyenne vitesse Min\",\"CO2 moyenne vitesse Max\",\"CO2 haute vitesse Min\",\"CO2 haute vitesse Max\",\"CO2 T-haute vitesse Min\",\"CO2 T-haute vitesse Max\",\"CO2 vitesse mixte Min\",\"CO2 vitesse mixte Max\",\"Conso basse vitesse Min\",\"Conso basse vitesse Max\",\"Conso moyenne vitesse Min\",\"Conso moyenne vitesse Max\",\"Conso haute vitesse Min\",\"Conso haute vitesse Max\",\"Conso T-haute vitesse Min\",\"Conso T-haute vitesse Max\",\"Conso vitesse mixte Min\",\"Conso vitesse mixte Max\"]\n",
    "X = car_data[feature_names]\n",
    "\n",
    "\n",
    "\n",
    "train_X, val_X,train_y, val_y = train_test_split(X,y, random_state = 1)\n",
    "\n",
    "car_model = LinearRegression() \n",
    "car_model.fit(train_X,train_y)\n",
    "\n",
    "val_predictions = car_model.predict(val_X)\n",
    "print(val_predictions[:5])\n",
    "print(val_y[:5].values)\n"
   ]
  }
 ],
 "metadata": {
  "kernelspec": {
   "display_name": "Python 3",
   "language": "python",
   "name": "python3"
  },
  "language_info": {
   "codemirror_mode": {
    "name": "ipython",
    "version": 3
   },
   "file_extension": ".py",
   "mimetype": "text/x-python",
   "name": "python",
   "nbconvert_exporter": "python",
   "pygments_lexer": "ipython3",
   "version": "3.9.13"
  },
  "orig_nbformat": 4
 },
 "nbformat": 4,
 "nbformat_minor": 2
}
