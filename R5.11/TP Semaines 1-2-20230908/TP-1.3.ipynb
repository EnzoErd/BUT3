{
 "cells": [
  {
   "attachments": {},
   "cell_type": "markdown",
   "metadata": {},
   "source": [
    "# Traitement des variables categorielles : one-hot encoding\n",
    "\n"
   ]
  },
  {
   "attachments": {},
   "cell_type": "markdown",
   "metadata": {},
   "source": [
    "### Traiter les variables categorielles"
   ]
  },
  {
   "cell_type": "code",
   "execution_count": 1,
   "metadata": {},
   "outputs": [
    {
     "name": "stderr",
     "output_type": "stream",
     "text": [
      "/usr/lib/python3/dist-packages/scipy/__init__.py:146: UserWarning: A NumPy version >=1.17.3 and <1.25.0 is required for this version of SciPy (detected version 1.25.2\n",
      "  warnings.warn(f\"A NumPy version >={np_minversion} and <{np_maxversion}\"\n"
     ]
    }
   ],
   "source": [
    "import pandas as pd\n",
    "from sklearn.model_selection import train_test_split\n",
    "from sklearn.linear_model import LinearRegression\n",
    "from sklearn.metrics import mean_absolute_error\n",
    "from helpers import tp1_2"
   ]
  },
  {
   "cell_type": "code",
   "execution_count": 6,
   "metadata": {},
   "outputs": [
    {
     "data": {
      "text/html": [
       "<pre style=\"white-space:pre;overflow-x:auto;line-height:normal;font-family:Menlo,'DejaVu Sans Mono',consolas,'Courier New',monospace\"><span style=\"color: #e3e3dd; text-decoration-color: #e3e3dd; background-color: #272822; font-weight: bold\">  </span><span style=\"color: #656660; text-decoration-color: #656660; background-color: #272822\">1 </span><span style=\"color: #f8f8f2; text-decoration-color: #f8f8f2; background-color: #272822\">Looks good</span><span style=\"color: #ff4689; text-decoration-color: #ff4689; background-color: #272822\">.</span><span style=\"color: #f8f8f2; text-decoration-color: #f8f8f2; background-color: #272822\"> Good job</span><span style=\"color: #ed007e; text-decoration-color: #ed007e; background-color: #1e0010\">!</span><span style=\"background-color: #272822\">                                                                                          </span>\n",
       "</pre>\n"
      ],
      "text/plain": [
       "\u001b[1;38;2;227;227;221;48;2;39;40;34m  \u001b[0m\u001b[38;2;101;102;96;48;2;39;40;34m1 \u001b[0m\u001b[38;2;248;248;242;48;2;39;40;34mLooks\u001b[0m\u001b[38;2;248;248;242;48;2;39;40;34m \u001b[0m\u001b[38;2;248;248;242;48;2;39;40;34mgood\u001b[0m\u001b[38;2;255;70;137;48;2;39;40;34m.\u001b[0m\u001b[38;2;248;248;242;48;2;39;40;34m \u001b[0m\u001b[38;2;248;248;242;48;2;39;40;34mGood\u001b[0m\u001b[38;2;248;248;242;48;2;39;40;34m \u001b[0m\u001b[38;2;248;248;242;48;2;39;40;34mjob\u001b[0m\u001b[38;2;237;0;126;48;2;30;0;16m!\u001b[0m\u001b[48;2;39;40;34m                                                                                          \u001b[0m\n"
      ]
     },
     "metadata": {},
     "output_type": "display_data"
    }
   ],
   "source": [
    "# Charger les données\n",
    "iowa_file_path = 'data/iowa_data.csv'\n",
    "home_data = pd.read_csv(iowa_file_path)\n",
    "home_data.dropna(axis=0, subset=['SalePrice'], inplace=True)\n",
    "\n",
    "# Selectionner la cible\n",
    "y = home_data.SalePrice\n",
    "\n",
    "# Pour simplifier, nous allons supprimer les colonnes avec des valeurs manquantes\n",
    "cols_with_missing = [col for col in home_data.columns if home_data[col].isnull().any()]\n",
    "X = home_data.drop(cols_with_missing, axis=1)\n",
    "X = X.drop(['SalePrice'],axis=1)\n",
    "\n",
    "# Diviser les données en sous-ensembles d'entrainement et de validation\n",
    "X_train, X_valid, y_train, y_valid = train_test_split(X, y, train_size=0.8, test_size=0.2, random_state=0)\n",
    "\n",
    "tp1_2.step5.check(X_train, X_valid, y_train, y_valid)\n",
    "# tp1_2.step5.hint()\n",
    "# tp1_2.step5.solution()\n"
   ]
  },
  {
   "cell_type": "code",
   "execution_count": 8,
   "metadata": {},
   "outputs": [],
   "source": [
    "\n",
    "# fonction pour entrainer le modèle et evaluer la performance\n",
    "def score_dataset(X_train, X_valid, y_train, y_valid):\n",
    "    model = LinearRegression()\n",
    "    model.fit(X_train, y_train)\n",
    "    preds = model.predict(X_valid)\n",
    "    return mean_absolute_error(y_valid, preds)\n",
    "\n",
    "# Le code suivant donne une erreur car il y a des variables catégorielles \n",
    "score = score_dataset(X_train, X_valid, y_train, y_valid)"
   ]
  },
  {
   "attachments": {},
   "cell_type": "markdown",
   "metadata": {},
   "source": [
    "### Supprimer les colonnes avec des données catégorielles\n",
    "\n",
    "Vous commencerez par l'approche la plus simple. Utilisez la cellule de code ci-dessous pour prétraiter les données dans X_train et X_valid pour supprimer les colonnes avec des données catégorielles. Définissez les DataFrames prétraités sur drop_X_train et drop_X_valid, respectivement."
   ]
  },
  {
   "cell_type": "code",
   "execution_count": 9,
   "metadata": {},
   "outputs": [
    {
     "name": "stdout",
     "output_type": "stream",
     "text": [
      "23842.062627904423\n"
     ]
    },
    {
     "data": {
      "text/html": [
       "<pre style=\"white-space:pre;overflow-x:auto;line-height:normal;font-family:Menlo,'DejaVu Sans Mono',consolas,'Courier New',monospace\"><span style=\"color: #e3e3dd; text-decoration-color: #e3e3dd; background-color: #272822; font-weight: bold\">  </span><span style=\"color: #656660; text-decoration-color: #656660; background-color: #272822\">1 </span><span style=\"color: #f8f8f2; text-decoration-color: #f8f8f2; background-color: #272822\">Expected score to be </span><span style=\"color: #ae81ff; text-decoration-color: #ae81ff; background-color: #272822\">23842.062627904717</span><span style=\"color: #f8f8f2; text-decoration-color: #f8f8f2; background-color: #272822\">, but got </span><span style=\"color: #ae81ff; text-decoration-color: #ae81ff; background-color: #272822\">23842.062627904423</span><span style=\"background-color: #272822\">                                            </span>\n",
       "</pre>\n"
      ],
      "text/plain": [
       "\u001b[1;38;2;227;227;221;48;2;39;40;34m  \u001b[0m\u001b[38;2;101;102;96;48;2;39;40;34m1 \u001b[0m\u001b[38;2;248;248;242;48;2;39;40;34mExpected\u001b[0m\u001b[38;2;248;248;242;48;2;39;40;34m \u001b[0m\u001b[38;2;248;248;242;48;2;39;40;34mscore\u001b[0m\u001b[38;2;248;248;242;48;2;39;40;34m \u001b[0m\u001b[38;2;248;248;242;48;2;39;40;34mto\u001b[0m\u001b[38;2;248;248;242;48;2;39;40;34m \u001b[0m\u001b[38;2;248;248;242;48;2;39;40;34mbe\u001b[0m\u001b[38;2;248;248;242;48;2;39;40;34m \u001b[0m\u001b[38;2;174;129;255;48;2;39;40;34m23842.062627904717\u001b[0m\u001b[38;2;248;248;242;48;2;39;40;34m,\u001b[0m\u001b[38;2;248;248;242;48;2;39;40;34m \u001b[0m\u001b[38;2;248;248;242;48;2;39;40;34mbut\u001b[0m\u001b[38;2;248;248;242;48;2;39;40;34m \u001b[0m\u001b[38;2;248;248;242;48;2;39;40;34mgot\u001b[0m\u001b[38;2;248;248;242;48;2;39;40;34m \u001b[0m\u001b[38;2;174;129;255;48;2;39;40;34m23842.062627904423\u001b[0m\u001b[48;2;39;40;34m                                            \u001b[0m\n"
      ]
     },
     "metadata": {},
     "output_type": "display_data"
    }
   ],
   "source": [
    "# Remplissez les lignes ci-dessous : supprimez les colonnes dans les données d'entraînement et de validation\n",
    "drop_X_train = X_train.select_dtypes(exclude=['object'])\n",
    "drop_X_valid = X_valid.select_dtypes(exclude=['object'])\n",
    "# # Le code suivant donne une erreur car il y a des variables catégorielles\n",
    "# score = score_dataset(X_train, X_valid, y_train, y_valid)\n",
    "# Le code suivant fonctionne après avoir supprimé les variables catégorielles\n",
    "score = score_dataset(drop_X_train, drop_X_valid, y_train, y_valid)\n",
    "print (score)\n",
    "\n",
    "tp1_2.step6.check(drop_X_train, drop_X_valid, score)\n",
    "# tp1_2.step6.hint()\n",
    "# tp1_2.step6.solution()\n"
   ]
  },
  {
   "attachments": {},
   "cell_type": "markdown",
   "metadata": {},
   "source": [
    "### Encodage one-hot et encodage ordinal"
   ]
  },
  {
   "cell_type": "code",
   "execution_count": 15,
   "metadata": {},
   "outputs": [
    {
     "data": {
      "text/plain": [
       "[('Street', 2),\n",
       " ('Utilities', 2),\n",
       " ('CentralAir', 2),\n",
       " ('LandSlope', 3),\n",
       " ('PavedDrive', 3),\n",
       " ('LotShape', 4),\n",
       " ('LandContour', 4),\n",
       " ('ExterQual', 4),\n",
       " ('KitchenQual', 4),\n",
       " ('MSZoning', 5),\n",
       " ('LotConfig', 5),\n",
       " ('BldgType', 5),\n",
       " ('ExterCond', 5),\n",
       " ('HeatingQC', 5),\n",
       " ('Condition2', 6),\n",
       " ('RoofStyle', 6),\n",
       " ('Foundation', 6),\n",
       " ('Heating', 6),\n",
       " ('Functional', 6),\n",
       " ('SaleCondition', 6),\n",
       " ('RoofMatl', 7),\n",
       " ('HouseStyle', 8),\n",
       " ('Condition1', 9),\n",
       " ('SaleType', 9),\n",
       " ('Exterior1st', 15),\n",
       " ('Exterior2nd', 16),\n",
       " ('Neighborhood', 25)]"
      ]
     },
     "execution_count": 15,
     "metadata": {},
     "output_type": "execute_result"
    }
   ],
   "source": [
    "# Colonnes de catégorie dans les données d'entraînement\n",
    "object_cols = [col for col in X_train.columns if X_train[col].dtype == \"object\"]\n",
    "\n",
    "# Obtenir le nombre d'entrées uniques dans chaque colonne avec des données catégorielles\n",
    "object_nunique = list(map(lambda col: X_train[col].nunique(), object_cols))\n",
    "d = dict(zip(object_cols, object_nunique))\n",
    "\n",
    "# Afficher le nombre d'entrées uniques par colonne, par ordre croissant\n",
    "sorted(d.items(), key=lambda x: x[1])"
   ]
  },
  {
   "attachments": {},
   "cell_type": "markdown",
   "metadata": {},
   "source": [
    "### Étude de la cardinalité\n",
    "\n",
    "La sortie ci-dessus montre, pour chaque colonne avec des données catégorielles, le nombre de valeurs uniques dans la colonne. Par exemple, la colonne \"Street\" dans les données d'entraînement a deux valeurs uniques : \"Grvl\" et \"Pave\", correspondant respectivement à une route de gravier et à une route goudronnée.\n",
    "\n",
    "Nous appelons le nombre d'entrées uniques d'une variable catégorielle la cardinalité de cette variable catégorielle. Par exemple, la variable 'Street' a la cardinalité 2.\n",
    "\n",
    "Utilisez la sortie ci-dessus pour répondre aux questions ci-dessous."
   ]
  },
  {
   "cell_type": "code",
   "execution_count": 10,
   "metadata": {},
   "outputs": [
    {
     "data": {
      "text/html": [
       "<pre style=\"white-space:pre;overflow-x:auto;line-height:normal;font-family:Menlo,'DejaVu Sans Mono',consolas,'Courier New',monospace\"><span style=\"color: #e3e3dd; text-decoration-color: #e3e3dd; background-color: #272822; font-weight: bold\">  </span><span style=\"color: #656660; text-decoration-color: #656660; background-color: #272822\">1 </span><span style=\"color: #f8f8f2; text-decoration-color: #f8f8f2; background-color: #272822\">Looks good</span><span style=\"color: #ff4689; text-decoration-color: #ff4689; background-color: #272822\">.</span><span style=\"color: #f8f8f2; text-decoration-color: #f8f8f2; background-color: #272822\"> Good job</span><span style=\"color: #ed007e; text-decoration-color: #ed007e; background-color: #1e0010\">!</span><span style=\"background-color: #272822\">                                                                                          </span>\n",
       "</pre>\n"
      ],
      "text/plain": [
       "\u001b[1;38;2;227;227;221;48;2;39;40;34m  \u001b[0m\u001b[38;2;101;102;96;48;2;39;40;34m1 \u001b[0m\u001b[38;2;248;248;242;48;2;39;40;34mLooks\u001b[0m\u001b[38;2;248;248;242;48;2;39;40;34m \u001b[0m\u001b[38;2;248;248;242;48;2;39;40;34mgood\u001b[0m\u001b[38;2;255;70;137;48;2;39;40;34m.\u001b[0m\u001b[38;2;248;248;242;48;2;39;40;34m \u001b[0m\u001b[38;2;248;248;242;48;2;39;40;34mGood\u001b[0m\u001b[38;2;248;248;242;48;2;39;40;34m \u001b[0m\u001b[38;2;248;248;242;48;2;39;40;34mjob\u001b[0m\u001b[38;2;237;0;126;48;2;30;0;16m!\u001b[0m\u001b[48;2;39;40;34m                                                                                          \u001b[0m\n"
      ]
     },
     "metadata": {},
     "output_type": "display_data"
    }
   ],
   "source": [
    "# Remplissez la ligne ci-dessous : Combien de variables catégorielles \n",
    "# dans les données d'apprentissage ont une cardinalité supérieure à 10 ?\n",
    "high_cardinality_numcols = 3\n",
    "\n",
    "# Remplissez la ligne ci-dessous : Combien de colonnes sont nécessaires\n",
    "# pour encoder One-Hot la variable 'Neighborhood' dans les données d'apprentissage ?\n",
    "num_cols_neighborhood = 25\n",
    "\n",
    "tp1_2.step7.check(high_cardinality_numcols, num_cols_neighborhood)\n",
    "# tp1_2.step7.hint()\n",
    "# tp1_2.step7.solution()"
   ]
  },
  {
   "attachments": {},
   "cell_type": "markdown",
   "metadata": {},
   "source": [
    "Pour les ensembles de données volumineux comportant de nombreuses lignes, l'encodage One-Hot peut considérablement augmenter la taille de l'ensemble de données. Pour cette raison, nous n'encoderons généralement que des colonnes avec une cardinalité relativement faible. Ensuite, les colonnes à cardinalité élevée peuvent soit être supprimées de l'ensemble de données, soit utiliser un encodage ordinal.\n",
    "\n",
    "Par exemple, considérons un ensemble de données avec 10 000 lignes et contenant une colonne catégorielle avec 100 entrées uniques.\n",
    "\n",
    "Si cette colonne est remplacée par l'encodage one-hot correspondant, combien d'entrées sont ajoutées à l'ensemble de données ?\n",
    "Si nous remplaçons plutôt la colonne par l'encodage ordinal, combien d'entrées sont ajoutées ?\n",
    "Utilisez vos réponses pour remplir les lignes ci-dessous."
   ]
  },
  {
   "cell_type": "code",
   "execution_count": 13,
   "metadata": {},
   "outputs": [
    {
     "data": {
      "text/html": [
       "<pre style=\"white-space:pre;overflow-x:auto;line-height:normal;font-family:Menlo,'DejaVu Sans Mono',consolas,'Courier New',monospace\"><span style=\"color: #e3e3dd; text-decoration-color: #e3e3dd; background-color: #272822; font-weight: bold\">  </span><span style=\"color: #656660; text-decoration-color: #656660; background-color: #272822\">1 </span><span style=\"color: #f8f8f2; text-decoration-color: #f8f8f2; background-color: #272822\">Looks good</span><span style=\"color: #ff4689; text-decoration-color: #ff4689; background-color: #272822\">.</span><span style=\"color: #f8f8f2; text-decoration-color: #f8f8f2; background-color: #272822\"> Good job</span><span style=\"color: #ed007e; text-decoration-color: #ed007e; background-color: #1e0010\">!</span><span style=\"background-color: #272822\">                                                                                          </span>\n",
       "</pre>\n"
      ],
      "text/plain": [
       "\u001b[1;38;2;227;227;221;48;2;39;40;34m  \u001b[0m\u001b[38;2;101;102;96;48;2;39;40;34m1 \u001b[0m\u001b[38;2;248;248;242;48;2;39;40;34mLooks\u001b[0m\u001b[38;2;248;248;242;48;2;39;40;34m \u001b[0m\u001b[38;2;248;248;242;48;2;39;40;34mgood\u001b[0m\u001b[38;2;255;70;137;48;2;39;40;34m.\u001b[0m\u001b[38;2;248;248;242;48;2;39;40;34m \u001b[0m\u001b[38;2;248;248;242;48;2;39;40;34mGood\u001b[0m\u001b[38;2;248;248;242;48;2;39;40;34m \u001b[0m\u001b[38;2;248;248;242;48;2;39;40;34mjob\u001b[0m\u001b[38;2;237;0;126;48;2;30;0;16m!\u001b[0m\u001b[48;2;39;40;34m                                                                                          \u001b[0m\n"
      ]
     },
     "metadata": {},
     "output_type": "display_data"
    }
   ],
   "source": [
    "# Remplissez la ligne ci-dessous : Combien d'entrées sont ajoutées à \n",
    "# l'ensemble de données en remplaçant la colonne par un encodage unique ?\n",
    "OH_entries_added = 10000*100-10000\n",
    "\n",
    "# Remplissez la ligne ci-dessous : Combien d'entrées sont ajoutées \n",
    "# au jeu de données en remplaçant la colonne par un encodage ordinal ?\n",
    "label_entries_added = 0\n",
    "\n",
    "tp1_2.step8.check(OH_entries_added, label_entries_added)\n",
    "# tp1_2.step8.hint()\n",
    "# tp1_2.step8.solution()\n"
   ]
  },
  {
   "attachments": {},
   "cell_type": "markdown",
   "metadata": {},
   "source": [
    "Ensuite, vous expérimenterez l'encodage One-Hot. Mais, au lieu d'encoder toutes les variables catégorielles dans l'ensemble de données, vous le ferez que pour les colonnes avec une cardinalité inférieure à 10."
   ]
  },
  {
   "cell_type": "code",
   "execution_count": 20,
   "metadata": {},
   "outputs": [
    {
     "name": "stdout",
     "output_type": "stream",
     "text": [
      "Categorical columns that will be one-hot encoded: ['MSZoning', 'Street', 'LotShape', 'LandContour', 'Utilities', 'LotConfig', 'LandSlope', 'Neighborhood', 'Condition1', 'Condition2', 'BldgType', 'HouseStyle', 'RoofStyle', 'RoofMatl', 'Exterior1st', 'Exterior2nd', 'ExterQual', 'ExterCond', 'Foundation', 'Heating', 'HeatingQC', 'CentralAir', 'KitchenQual', 'Functional', 'PavedDrive', 'SaleType', 'SaleCondition']\n",
      "\n",
      "Categorical columns that will be dropped from the dataset: []\n"
     ]
    },
    {
     "data": {
      "text/html": [
       "<pre style=\"white-space:pre;overflow-x:auto;line-height:normal;font-family:Menlo,'DejaVu Sans Mono',consolas,'Courier New',monospace\"><span style=\"color: #e3e3dd; text-decoration-color: #e3e3dd; background-color: #272822; font-weight: bold\">  </span><span style=\"color: #656660; text-decoration-color: #656660; background-color: #272822\">1 </span><span style=\"color: #f8f8f2; text-decoration-color: #f8f8f2; background-color: #272822\">Expected low_cardinality_cols to be [</span><span style=\"color: #e6db74; text-decoration-color: #e6db74; background-color: #272822\">'MSZoning'</span><span style=\"color: #f8f8f2; text-decoration-color: #f8f8f2; background-color: #272822\">, </span><span style=\"color: #e6db74; text-decoration-color: #e6db74; background-color: #272822\">'Street'</span><span style=\"color: #f8f8f2; text-decoration-color: #f8f8f2; background-color: #272822\">, </span><span style=\"color: #e6db74; text-decoration-color: #e6db74; background-color: #272822\">'LotShape'</span><span style=\"color: #f8f8f2; text-decoration-color: #f8f8f2; background-color: #272822\">, </span><span style=\"color: #e6db74; text-decoration-color: #e6db74; background-color: #272822\">'LandContour'</span><span style=\"color: #f8f8f2; text-decoration-color: #f8f8f2; background-color: #272822\">, </span><span style=\"color: #e6db74; text-decoration-color: #e6db74; background-color: #272822\">'Utilities'</span><span style=\"color: #f8f8f2; text-decoration-color: #f8f8f2; background-color: #272822\">, </span><span style=\"color: #e6db74; text-decoration-color: #e6db74; background-color: #272822\">'LotConfig'</span><span style=\"color: #f8f8f2; text-decoration-color: #f8f8f2; background-color: #272822\">,</span>\n",
       "</pre>\n"
      ],
      "text/plain": [
       "\u001b[1;38;2;227;227;221;48;2;39;40;34m  \u001b[0m\u001b[38;2;101;102;96;48;2;39;40;34m1 \u001b[0m\u001b[38;2;248;248;242;48;2;39;40;34mExpected\u001b[0m\u001b[38;2;248;248;242;48;2;39;40;34m \u001b[0m\u001b[38;2;248;248;242;48;2;39;40;34mlow_cardinality_cols\u001b[0m\u001b[38;2;248;248;242;48;2;39;40;34m \u001b[0m\u001b[38;2;248;248;242;48;2;39;40;34mto\u001b[0m\u001b[38;2;248;248;242;48;2;39;40;34m \u001b[0m\u001b[38;2;248;248;242;48;2;39;40;34mbe\u001b[0m\u001b[38;2;248;248;242;48;2;39;40;34m \u001b[0m\u001b[38;2;248;248;242;48;2;39;40;34m[\u001b[0m\u001b[38;2;230;219;116;48;2;39;40;34m'\u001b[0m\u001b[38;2;230;219;116;48;2;39;40;34mMSZoning\u001b[0m\u001b[38;2;230;219;116;48;2;39;40;34m'\u001b[0m\u001b[38;2;248;248;242;48;2;39;40;34m,\u001b[0m\u001b[38;2;248;248;242;48;2;39;40;34m \u001b[0m\u001b[38;2;230;219;116;48;2;39;40;34m'\u001b[0m\u001b[38;2;230;219;116;48;2;39;40;34mStreet\u001b[0m\u001b[38;2;230;219;116;48;2;39;40;34m'\u001b[0m\u001b[38;2;248;248;242;48;2;39;40;34m,\u001b[0m\u001b[38;2;248;248;242;48;2;39;40;34m \u001b[0m\u001b[38;2;230;219;116;48;2;39;40;34m'\u001b[0m\u001b[38;2;230;219;116;48;2;39;40;34mLotShape\u001b[0m\u001b[38;2;230;219;116;48;2;39;40;34m'\u001b[0m\u001b[38;2;248;248;242;48;2;39;40;34m,\u001b[0m\u001b[38;2;248;248;242;48;2;39;40;34m \u001b[0m\u001b[38;2;230;219;116;48;2;39;40;34m'\u001b[0m\u001b[38;2;230;219;116;48;2;39;40;34mLandContour\u001b[0m\u001b[38;2;230;219;116;48;2;39;40;34m'\u001b[0m\u001b[38;2;248;248;242;48;2;39;40;34m,\u001b[0m\u001b[38;2;248;248;242;48;2;39;40;34m \u001b[0m\u001b[38;2;230;219;116;48;2;39;40;34m'\u001b[0m\u001b[38;2;230;219;116;48;2;39;40;34mUtilities\u001b[0m\u001b[38;2;230;219;116;48;2;39;40;34m'\u001b[0m\u001b[38;2;248;248;242;48;2;39;40;34m,\u001b[0m\u001b[38;2;248;248;242;48;2;39;40;34m \u001b[0m\u001b[38;2;230;219;116;48;2;39;40;34m'\u001b[0m\u001b[38;2;230;219;116;48;2;39;40;34mLotConfig\u001b[0m\u001b[38;2;230;219;116;48;2;39;40;34m'\u001b[0m\u001b[38;2;248;248;242;48;2;39;40;34m,\u001b[0m\n"
      ]
     },
     "metadata": {},
     "output_type": "display_data"
    }
   ],
   "source": [
    "# Colonnes qui seront encodées en one-hot\n",
    "low_cardinality_cols = [ col for col in object_cols if X_train[col].nunique()]\n",
    "\n",
    "# Colonnes qui seront supprimées du dataset\n",
    "high_cardinality_cols = list(set(object_cols)-set(low_cardinality_cols))\n",
    "\n",
    "print('Categorical columns that will be one-hot encoded:', low_cardinality_cols)\n",
    "print('\\nCategorical columns that will be dropped from the dataset:', high_cardinality_cols)\n",
    "\n",
    "tp1_2.step9.check(low_cardinality_cols, high_cardinality_cols)\n",
    "# tp1_2.step9.hint()\n",
    "# tp1_2.step9.solution()"
   ]
  },
  {
   "attachments": {},
   "cell_type": "markdown",
   "metadata": {},
   "source": [
    "Utilisez la cellule de code suivante pour encoder One-Hot les données dans `X_train` et `X_valid`. Définissez les DataFrames prétraités sur `OH_X_train` et `OH_X_valid`, respectivement.\n",
    "- La liste complète des colonnes catégorielles du jeu de données se trouve dans la liste Python `object_cols`.\n",
    "- Vous ne devez encoder qu'une seule fois les colonnes catégorielles dans `low_cardinality_cols`. Toutes les autres colonnes catégorielles doivent être supprimées de l'ensemble de données."
   ]
  },
  {
   "cell_type": "code",
   "execution_count": 22,
   "metadata": {},
   "outputs": [
    {
     "name": "stdout",
     "output_type": "stream",
     "text": [
      "MAE from Approach 3 (One-Hot Encoding): 22802.478258207244\n"
     ]
    },
    {
     "name": "stderr",
     "output_type": "stream",
     "text": [
      "/home/iut45/Etudiants/o22108393/.local/lib/python3.10/site-packages/sklearn/preprocessing/_encoders.py:972: FutureWarning: `sparse` was renamed to `sparse_output` in version 1.2 and will be removed in 1.4. `sparse_output` is ignored unless you leave `sparse` to its default value.\n",
      "  warnings.warn(\n"
     ]
    },
    {
     "data": {
      "text/html": [
       "<pre style=\"white-space:pre;overflow-x:auto;line-height:normal;font-family:Menlo,'DejaVu Sans Mono',consolas,'Courier New',monospace\"><span style=\"color: #e3e3dd; text-decoration-color: #e3e3dd; background-color: #272822; font-weight: bold\">  </span><span style=\"color: #656660; text-decoration-color: #656660; background-color: #272822\">1 </span><span style=\"color: #f8f8f2; text-decoration-color: #f8f8f2; background-color: #272822\">Expected score to be </span><span style=\"color: #ae81ff; text-decoration-color: #ae81ff; background-color: #272822\">24532.98600376439</span><span style=\"color: #f8f8f2; text-decoration-color: #f8f8f2; background-color: #272822\">, but got </span><span style=\"color: #ae81ff; text-decoration-color: #ae81ff; background-color: #272822\">22802.478258207244</span><span style=\"background-color: #272822\">                                             </span>\n",
       "</pre>\n"
      ],
      "text/plain": [
       "\u001b[1;38;2;227;227;221;48;2;39;40;34m  \u001b[0m\u001b[38;2;101;102;96;48;2;39;40;34m1 \u001b[0m\u001b[38;2;248;248;242;48;2;39;40;34mExpected\u001b[0m\u001b[38;2;248;248;242;48;2;39;40;34m \u001b[0m\u001b[38;2;248;248;242;48;2;39;40;34mscore\u001b[0m\u001b[38;2;248;248;242;48;2;39;40;34m \u001b[0m\u001b[38;2;248;248;242;48;2;39;40;34mto\u001b[0m\u001b[38;2;248;248;242;48;2;39;40;34m \u001b[0m\u001b[38;2;248;248;242;48;2;39;40;34mbe\u001b[0m\u001b[38;2;248;248;242;48;2;39;40;34m \u001b[0m\u001b[38;2;174;129;255;48;2;39;40;34m24532.98600376439\u001b[0m\u001b[38;2;248;248;242;48;2;39;40;34m,\u001b[0m\u001b[38;2;248;248;242;48;2;39;40;34m \u001b[0m\u001b[38;2;248;248;242;48;2;39;40;34mbut\u001b[0m\u001b[38;2;248;248;242;48;2;39;40;34m \u001b[0m\u001b[38;2;248;248;242;48;2;39;40;34mgot\u001b[0m\u001b[38;2;248;248;242;48;2;39;40;34m \u001b[0m\u001b[38;2;174;129;255;48;2;39;40;34m22802.478258207244\u001b[0m\u001b[48;2;39;40;34m                                             \u001b[0m\n"
      ]
     },
     "metadata": {},
     "output_type": "display_data"
    }
   ],
   "source": [
    "from sklearn.preprocessing import OneHotEncoder\n",
    "\n",
    "# Appliquer un encodeur one-hot à chaque colonne avec des données catégorielles\n",
    "OH_encoder = OneHotEncoder(handle_unknown='ignore', sparse=False)\n",
    "OH_cols = pd.DataFrame(OH_encoder.fit_transform(X[low_cardinality_cols]))\n",
    "\n",
    "# One-hot encodage supprime l'index; le remettre\n",
    "OH_cols.index = X.index\n",
    "\n",
    "# Supprimer les colonnes catégorielles (sera remplacé par l'encodage one-hot)\n",
    "num_X = X.drop(object_cols, axis=1)\n",
    "\n",
    "# Combiner les colonnes encodées one-hot et caractéristiques numériques\n",
    "OH_X = pd.concat([num_X,OH_cols], axis=1)\n",
    "\n",
    "# Assurer que toutes les colonnes sont des strings\n",
    "OH_X.columns = OH_X.columns.astype(str)\n",
    "\n",
    "OH_X_train, OH_X_valid, y_train, y_valid = train_test_split(OH_X, y, train_size=0.8, test_size=0.2,random_state=0)\n",
    "score = score_dataset(OH_X_train, OH_X_valid, y_train, y_valid)\n",
    "print(\"MAE from Approach 3 (One-Hot Encoding):\", score) \n",
    "\n",
    "tp1_2.step10.check(OH_X_train, OH_X_valid, y_train, y_valid, score)\n",
    "# tp1_2.step10.hint()\n",
    "# tp1_2.step10.solution()"
   ]
  }
 ],
 "metadata": {
  "kernelspec": {
   "display_name": "Python 3",
   "language": "python",
   "name": "python3"
  },
  "language_info": {
   "codemirror_mode": {
    "name": "ipython",
    "version": 3
   },
   "file_extension": ".py",
   "mimetype": "text/x-python",
   "name": "python",
   "nbconvert_exporter": "python",
   "pygments_lexer": "ipython3",
   "version": "3.10.12"
  },
  "orig_nbformat": 4
 },
 "nbformat": 4,
 "nbformat_minor": 2
}
